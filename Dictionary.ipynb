{
 "cells": [
  {
   "cell_type": "code",
   "execution_count": 1,
   "metadata": {},
   "outputs": [],
   "source": [
    "#Dictionary"
   ]
  },
  {
   "cell_type": "code",
   "execution_count": 12,
   "metadata": {},
   "outputs": [],
   "source": [
    "#importing libraries\n",
    "import json\n",
    "from difflib import get_close_matches"
   ]
  },
  {
   "cell_type": "code",
   "execution_count": 3,
   "metadata": {},
   "outputs": [],
   "source": [
    "#loading data json file that contains all words and their meaning\n",
    "data=json.load(open(\"076 data.json\"))"
   ]
  },
  {
   "cell_type": "code",
   "execution_count": 10,
   "metadata": {},
   "outputs": [
    {
     "data": {
      "text/plain": [
       "['A reference book containing an explanatory alphabetical list of words, identifying usually, the phonetic, grammatical, and semantic value of each word, often with etymology, citations, and usage guidance and other information.']"
      ]
     },
     "execution_count": 10,
     "metadata": {},
     "output_type": "execute_result"
    }
   ],
   "source": [
    "#one example of word dictionary with its meaning\n",
    "data[\"dictionary\"]"
   ]
  },
  {
   "cell_type": "code",
   "execution_count": 13,
   "metadata": {},
   "outputs": [],
   "source": [
    "#creating a function that takes as input and return its meaning\n",
    "def meaning(word):\n",
    "    word=word.lower()\n",
    "    if word in data:\n",
    "        return data[\"word\"]\n",
    "    #using difflib library to get relatively close words to the given input words\n",
    "    #get_close_matches returns words that are quite close to given input words\n",
    "    elif len(get_close_matches(word,data.keys()))>0:\n",
    "        choice=input((\"Did you mean {} ?\".format(get_close_matches(word,data.keys())[0])))\n",
    "        if choice==\"Y\":\n",
    "            return data[get_close_matches(word,data.keys())[0]]\n",
    "        elif choice==\"N\":\n",
    "            return(\"word does not exist\")\n",
    "        else:\n",
    "            return(\"we didnot understand \")\n",
    "    else:\n",
    "        return (\"word does not exist\")"
   ]
  },
  {
   "cell_type": "code",
   "execution_count": 19,
   "metadata": {},
   "outputs": [
    {
     "name": "stdout",
     "output_type": "stream",
     "text": [
      "Enter word: supercalifragilistic\n"
     ]
    }
   ],
   "source": [
    "#taking input from the user\n",
    "word=input(\"Enter word: \")\n"
   ]
  },
  {
   "cell_type": "code",
   "execution_count": 21,
   "metadata": {},
   "outputs": [
    {
     "name": "stdout",
     "output_type": "stream",
     "text": [
      "Did you mean supercalifragilisticexpialidocious ?Y\n",
      "Fictional word used in the movie ''Mary Poppins'' that is supposed to be a miraculous way to talk oneself out of difficult situations.\n"
     ]
    }
   ],
   "source": [
    "#printing word meaning in an elegant way\n",
    "word_meaning=meaning(word)\n",
    "if type(word_meaning)==list:\n",
    "    for i in word_meaning:\n",
    "        print(i)\n",
    "else:\n",
    "    print(word_meaning)"
   ]
  }
 ],
 "metadata": {
  "kernelspec": {
   "display_name": "Python 3",
   "language": "python",
   "name": "python3"
  },
  "language_info": {
   "codemirror_mode": {
    "name": "ipython",
    "version": 3
   },
   "file_extension": ".py",
   "mimetype": "text/x-python",
   "name": "python",
   "nbconvert_exporter": "python",
   "pygments_lexer": "ipython3",
   "version": "3.7.3"
  },
  "latex_envs": {
   "LaTeX_envs_menu_present": true,
   "autoclose": false,
   "autocomplete": true,
   "bibliofile": "biblio.bib",
   "cite_by": "apalike",
   "current_citInitial": 1,
   "eqLabelWithNumbers": true,
   "eqNumInitial": 1,
   "hotkeys": {
    "equation": "Ctrl-E",
    "itemize": "Ctrl-I"
   },
   "labels_anchors": false,
   "latex_user_defs": false,
   "report_style_numbering": false,
   "user_envs_cfg": false
  }
 },
 "nbformat": 4,
 "nbformat_minor": 4
}
